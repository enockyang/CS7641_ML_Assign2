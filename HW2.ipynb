{
 "cells": [
  {
   "cell_type": "markdown",
   "metadata": {},
   "source": [
    "# 8-queens Problem"
   ]
  },
  {
   "cell_type": "code",
   "execution_count": 2,
   "metadata": {},
   "outputs": [],
   "source": [
    "import mlrose\n",
    "import numpy as np"
   ]
  },
  {
   "cell_type": "code",
   "execution_count": 3,
   "metadata": {},
   "outputs": [],
   "source": [
    "# Define alternative N-Queens fitness function for maximization problem\n",
    "def queens_max(state):\n",
    "    # Initialize counter\n",
    "    fitness_cnt = 0\n",
    "\n",
    "    # For all pairs of queens\n",
    "    for i in range(len(state) - 1):\n",
    "         for j in range(i + 1, len(state)):\n",
    "            # Check for horizontal, diagonal-up and diagonal-down attacks\n",
    "            if (state[j] != state[i]) \\\n",
    "            and (state[j] != state[i] + (j - i)) \\\n",
    "            and (state[j] != state[i] - (j - i)):\n",
    "                # If no attacks, then increment counter\n",
    "                fitness_cnt += 1\n",
    "\n",
    "    return fitness_cnt\n",
    "\n",
    "# Initialize custom fitness function object\n",
    "fitness_cust = mlrose.CustomFitness(queens_max)"
   ]
  },
  {
   "cell_type": "code",
   "execution_count": 6,
   "metadata": {},
   "outputs": [],
   "source": [
    "fitness = mlrose.Queens()"
   ]
  },
  {
   "cell_type": "code",
   "execution_count": 7,
   "metadata": {},
   "outputs": [],
   "source": [
    "problem = mlrose.DiscreteOpt(length = 8, fitness_fn = fitness, maximize = False, max_val = 8)\n",
    "# problem = mlrose.DiscreteOpt(length = 8, fitness_fn = queens_max, maximize = True, max_val = 8)"
   ]
  },
  {
   "cell_type": "markdown",
   "metadata": {},
   "source": [
    "### 1. SA"
   ]
  },
  {
   "cell_type": "code",
   "execution_count": 8,
   "metadata": {},
   "outputs": [
    {
     "name": "stdout",
     "output_type": "stream",
     "text": [
      "[6 4 7 3 6 2 5 1]\n",
      "2.0\n"
     ]
    }
   ],
   "source": [
    "# Define decay schedule\n",
    "schedule = mlrose.ExpDecay()\n",
    "\n",
    "# Define initial state\n",
    "init_state = np.array([0, 1, 2, 3, 4, 5, 6, 7])\n",
    "\n",
    "# Solve problem using simulated annealing\n",
    "best_state, best_fitness = mlrose.simulated_annealing(problem, schedule = schedule,\n",
    "                                                      max_attempts = 10, max_iters = 1000,\n",
    "                                                      init_state = init_state, random_state = 1)\n",
    "\n",
    "print(best_state)\n",
    "\n",
    "print(best_fitness)"
   ]
  },
  {
   "cell_type": "code",
   "execution_count": 14,
   "metadata": {},
   "outputs": [
    {
     "name": "stdout",
     "output_type": "stream",
     "text": [
      "[4 1 3 5 7 2 0 6]\n",
      "0.0\n"
     ]
    }
   ],
   "source": [
    "# Define decay schedule\n",
    "schedule = mlrose.ExpDecay()\n",
    "\n",
    "# Define initial state\n",
    "init_state = np.array([0, 1, 2, 3, 4, 5, 6, 7])\n",
    "\n",
    "# Solve problem using simulated annealing\n",
    "best_state, best_fitness = mlrose.simulated_annealing(problem, schedule = schedule,\n",
    "                                                      max_attempts = 100, max_iters = 1000,\n",
    "                                                      init_state = init_state, random_state = 1)\n",
    "\n",
    "print(best_state)\n",
    "\n",
    "print(best_fitness)"
   ]
  },
  {
   "cell_type": "markdown",
   "metadata": {},
   "source": [
    "### 2. RHC"
   ]
  },
  {
   "cell_type": "code",
   "execution_count": 33,
   "metadata": {},
   "outputs": [
    {
     "name": "stdout",
     "output_type": "stream",
     "text": [
      "[0 6 3 7 7 1 2 5]\n",
      "2.0\n"
     ]
    }
   ],
   "source": [
    "# Define initial state\n",
    "init_state = np.array([0, 1, 2, 3, 4, 5, 6, 7])\n",
    "\n",
    "# Solve problem using random_hill_climb\n",
    "best_state2, best_fitness2 = mlrose.random_hill_climb(problem, max_attempts = 10, \n",
    "                                                      max_iters = 1000, restarts = 10,\n",
    "                                                      init_state = init_state, curve = False, random_state = 1)\n",
    "\n",
    "print(best_state2)\n",
    "\n",
    "print(best_fitness2)"
   ]
  },
  {
   "cell_type": "code",
   "execution_count": 35,
   "metadata": {},
   "outputs": [
    {
     "name": "stdout",
     "output_type": "stream",
     "text": [
      "[3 1 6 2 5 7 0 4]\n",
      "0.0\n"
     ]
    }
   ],
   "source": [
    "# Define initial state\n",
    "init_state = np.array([0, 1, 2, 3, 4, 5, 6, 7])\n",
    "\n",
    "# Solve problem using random_hill_climb\n",
    "best_state2, best_fitness2 = mlrose.random_hill_climb(problem, max_attempts = 100, \n",
    "                                                      max_iters = 1000, restarts = 100,\n",
    "                                                      init_state = init_state, curve = False, random_state = 1)\n",
    "\n",
    "print(best_state2)\n",
    "\n",
    "print(best_fitness2)"
   ]
  },
  {
   "cell_type": "markdown",
   "metadata": {},
   "source": [
    "### 3. GA"
   ]
  },
  {
   "cell_type": "code",
   "execution_count": 36,
   "metadata": {},
   "outputs": [
    {
     "name": "stdout",
     "output_type": "stream",
     "text": [
      "[4 0 4 6 1 3 7 7]\n",
      "2.0\n"
     ]
    }
   ],
   "source": [
    "# Define initial state\n",
    "init_state = np.array([0, 1, 2, 3, 4, 5, 6, 7])\n",
    "\n",
    "# Solve problem using genetic_alg\n",
    "best_state3, best_fitness3 = mlrose.genetic_alg(problem, pop_size = 200, \n",
    "                                                mutation_prob = 0.1, max_attempts = 10, max_iters = 1000, \n",
    "                                                curve = False, random_state = 1)\n",
    "\n",
    "print(best_state3)\n",
    "\n",
    "print(best_fitness3)"
   ]
  },
  {
   "cell_type": "code",
   "execution_count": 37,
   "metadata": {},
   "outputs": [
    {
     "name": "stdout",
     "output_type": "stream",
     "text": [
      "[4 0 5 3 1 6 2 5]\n",
      "1.0\n"
     ]
    }
   ],
   "source": [
    "# Define initial state\n",
    "init_state = np.array([0, 1, 2, 3, 4, 5, 6, 7])\n",
    "\n",
    "# Solve problem using genetic_alg\n",
    "best_state3, best_fitness3 = mlrose.genetic_alg(problem, pop_size = 200, \n",
    "                                                mutation_prob = 0.1, max_attempts = 100, max_iters = 1000, \n",
    "                                                curve = False, random_state = 1)\n",
    "\n",
    "print(best_state3)\n",
    "\n",
    "print(best_fitness3)"
   ]
  },
  {
   "cell_type": "code",
   "execution_count": null,
   "metadata": {},
   "outputs": [],
   "source": []
  },
  {
   "cell_type": "markdown",
   "metadata": {},
   "source": [
    "### 4. MIMIC"
   ]
  },
  {
   "cell_type": "code",
   "execution_count": 38,
   "metadata": {},
   "outputs": [
    {
     "name": "stdout",
     "output_type": "stream",
     "text": [
      "[7 4 1 0 6 3 6 2]\n",
      "2.0\n"
     ]
    }
   ],
   "source": [
    "# Define initial state\n",
    "init_state = np.array([0, 1, 2, 3, 4, 5, 6, 7])\n",
    "\n",
    "# Solve problem using MIMIC\n",
    "best_state4, best_fitness4 = mlrose.mimic(problem, pop_size = 200, \n",
    "                                          keep_pct = 0.2, max_attempts = 10, max_iters = 1000, \n",
    "                                          curve = False, random_state = 1, fast_mimic = False)\n",
    "\n",
    "print(best_state4)\n",
    "\n",
    "print(best_fitness4)"
   ]
  },
  {
   "cell_type": "code",
   "execution_count": 39,
   "metadata": {},
   "outputs": [
    {
     "name": "stdout",
     "output_type": "stream",
     "text": [
      "[7 4 1 0 6 3 6 2]\n",
      "2.0\n"
     ]
    }
   ],
   "source": [
    "# Define initial state\n",
    "init_state = np.array([0, 1, 2, 3, 4, 5, 6, 7])\n",
    "\n",
    "# Solve problem using MIMIC\n",
    "best_state4, best_fitness4 = mlrose.mimic(problem, pop_size = 200, \n",
    "                                          keep_pct = 0.2, max_attempts = 100, max_iters = 1000, \n",
    "                                          curve = False, random_state = 1, fast_mimic = False)\n",
    "\n",
    "print(best_state4)\n",
    "\n",
    "print(best_fitness4)"
   ]
  },
  {
   "cell_type": "markdown",
   "metadata": {},
   "source": [
    "### Combine"
   ]
  },
  {
   "cell_type": "code",
   "execution_count": 6,
   "metadata": {},
   "outputs": [],
   "source": [
    "def n_queens_compare(n, runs = 100):\n",
    "    \n",
    "    # define problem\n",
    "    fitness = mlrose.Queens()\n",
    "    problem = mlrose.DiscreteOpt(length = n, fitness_fn = fitness, maximize = False, max_val = n)\n",
    "    \n",
    "    # randomly define initial states\n",
    "    np.random.seed(2)\n",
    "    RHC_accu = []\n",
    "    SA_accu = []\n",
    "    GA_accu = []\n",
    "    MIMIC_accu = []\n",
    "    \n",
    "    for i in range(runs):\n",
    "        init_state = np.random.randint(low = 0, high = n, size = n)\n",
    "        RHC_state, RHC_fitness = mlrose.random_hill_climb(problem, max_attempts = 10, \n",
    "                                                      max_iters = 1000, restarts = 10,\n",
    "                                                      init_state = init_state, curve = False, random_state = 1)\n",
    "        \n",
    "        schedule = mlrose.ExpDecay()\n",
    "        SA_state, SA_fitness = mlrose.simulated_annealing(problem, schedule = schedule,\n",
    "                                                              max_attempts = 10, max_iters = 1000,\n",
    "                                                              init_state = init_state, random_state = 1)\n",
    "        \n",
    "        GA_state, GA_fitness = mlrose.genetic_alg(problem, pop_size = 200, \n",
    "                                                mutation_prob = 0.1, max_attempts = 10, max_iters = 1000, \n",
    "                                                curve = False, random_state = 1)\n",
    "\n",
    "        MIMIC_state, MIMIC_fitness = mlrose.genetic_alg(problem, pop_size = 200, \n",
    "                                                mutation_prob = 0.1, max_attempts = 10, max_iters = 1000, \n",
    "                                                curve = False, random_state = 1)\n",
    "        \n",
    "        RHC_accu.append(RHC_fitness)\n",
    "        SA_accu.append(SA_fitness)\n",
    "        GA_accu.append(GA_fitness)\n",
    "        MIMIC_accu.append(MIMIC_fitness)\n",
    "    \n",
    "    print(RHC_state, RHC_fitness, SA_state, SA_fitness, GA_state, GA_fitness, MIMIC_state, MIMIC_fitness)\n",
    "    return [RHC_accu, SA_accu, GA_accu, MIMIC_accu]\n",
    "        "
   ]
  },
  {
   "cell_type": "code",
   "execution_count": 87,
   "metadata": {},
   "outputs": [
    {
     "name": "stdout",
     "output_type": "stream",
     "text": [
      "[4 6 0 3 5 7 2 6] 1.0 [7 3 0 2 5 1 6 4] 0.0 [4 0 4 6 1 3 7 7] 2.0 [4 0 4 6 1 3 7 7] 2.0\n",
      "RHC 1.001\n",
      "SA 0.003\n",
      "GA 2.0\n",
      "MIMIC 2.0\n"
     ]
    }
   ],
   "source": [
    "res = n_queens_compare(8, runs = 1000)\n",
    "print('RHC', np.mean(res[0]))\n",
    "print('SA', np.mean(res[1]))\n",
    "print('GA', np.mean(res[2]))\n",
    "print('MIMIC', np.mean(res[3]))"
   ]
  },
  {
   "cell_type": "code",
   "execution_count": 7,
   "metadata": {},
   "outputs": [
    {
     "name": "stdout",
     "output_type": "stream",
     "text": [
      "[ 5  0  2 11  8 10  3 14 12  1  0 13 15  4  9  7] 5.0 [14 11  5  3  7  0  2 13  9  1  6 13 10  0 12  4] 5.0 [ 4  0  5 15  5  1  8  3 10  7  3 13  9 11 14  2] 9.0 [ 4  0  5 15  5  1  8  3 10  7  3 13  9 11 14  2] 9.0\n",
      "RHC 4.98\n",
      "SA 5.01\n",
      "GA 9.0\n",
      "MIMIC 9.0\n"
     ]
    }
   ],
   "source": [
    "res1 = n_queens_compare(16, runs = 100)\n",
    "print('RHC', np.mean(res1[0]))\n",
    "print('SA', np.mean(res1[1]))\n",
    "print('GA', np.mean(res1[2]))\n",
    "print('MIMIC', np.mean(res1[3]))"
   ]
  },
  {
   "cell_type": "markdown",
   "metadata": {},
   "source": [
    "# 4-peaks Problem"
   ]
  },
  {
   "cell_type": "markdown",
   "metadata": {},
   "source": [
    "### 4.1 SA"
   ]
  },
  {
   "cell_type": "code",
   "execution_count": 27,
   "metadata": {},
   "outputs": [
    {
     "data": {
      "text/plain": [
       "36"
      ]
     },
     "execution_count": 27,
     "metadata": {},
     "output_type": "execute_result"
    }
   ],
   "source": [
    "fitness = mlrose.FourPeaks(t_pct=0.15)\n",
    "state = np.array([1, 1, 1, 1, 1, 1, 1, 1, 1, 1, 1, 1, 1, 1, 1, 1, 0, 0, 0, 0])\n",
    "fitness.evaluate(state)"
   ]
  },
  {
   "cell_type": "code",
   "execution_count": 44,
   "metadata": {},
   "outputs": [],
   "source": [
    "peak_problem = mlrose.DiscreteOpt(length = 12, fitness_fn = fitness, maximize = True, max_val = 2)"
   ]
  },
  {
   "cell_type": "code",
   "execution_count": 45,
   "metadata": {},
   "outputs": [
    {
     "name": "stdout",
     "output_type": "stream",
     "text": [
      "[1 1 1 0 0 0 0 0 0 0 0 0]\n",
      "21.0\n"
     ]
    }
   ],
   "source": [
    "# Define decay schedule\n",
    "schedule = mlrose.ExpDecay()\n",
    "\n",
    "# Define initial state\n",
    "init_state = np.array([1, 1, 1, 0, 1, 0, 0, 1, 0, 0, 0, 0])\n",
    "\n",
    "# Solve problem using simulated annealing\n",
    "best_state, best_fitness = mlrose.simulated_annealing(peak_problem, schedule = schedule,\n",
    "                                                      max_attempts = 10, max_iters = 1000,\n",
    "                                                      init_state = init_state, random_state = 1)\n",
    "\n",
    "print(best_state)\n",
    "\n",
    "print(best_fitness)"
   ]
  },
  {
   "cell_type": "markdown",
   "metadata": {},
   "source": [
    "### Combine"
   ]
  },
  {
   "cell_type": "code",
   "execution_count": 10,
   "metadata": {},
   "outputs": [],
   "source": [
    "def peaks_compare(n = 12, runs = 100):\n",
    "    \n",
    "    # define problem\n",
    "    fitness = mlrose.FourPeaks(t_pct=0.15)\n",
    "    problem = mlrose.DiscreteOpt(length = n, fitness_fn = fitness, maximize = True, max_val = 2)\n",
    "    \n",
    "    # randomly define initial states\n",
    "    np.random.seed(2)\n",
    "    RHC_accu = []\n",
    "    SA_accu = []\n",
    "    GA_accu = []\n",
    "    MIMIC_accu = []\n",
    "    \n",
    "    for i in range(runs):\n",
    "        init_state = np.random.randint(low = 0, high = 2, size = n)\n",
    "        RHC_state, RHC_fitness = mlrose.random_hill_climb(problem, max_attempts = 10, \n",
    "                                                      max_iters = 1000, restarts = 10,\n",
    "                                                      init_state = init_state, curve = False, random_state = 1)\n",
    "        schedule = mlrose.ExpDecay()\n",
    "        SA_state, SA_fitness = mlrose.simulated_annealing(problem, schedule = schedule,\n",
    "                                                              max_attempts = 10, max_iters = 1000,\n",
    "                                                              init_state = init_state, random_state = 1)\n",
    "        \n",
    "        GA_state, GA_fitness = mlrose.genetic_alg(problem, pop_size = 200, \n",
    "                                                mutation_prob = 0.1, max_attempts = 10, max_iters = 1000, \n",
    "                                                curve = False, random_state = 1)\n",
    "\n",
    "        MIMIC_state, MIMIC_fitness = mlrose.genetic_alg(problem, pop_size = 200, \n",
    "                                                mutation_prob = 0.1, max_attempts = 10, max_iters = 1000, \n",
    "                                                curve = False, random_state = 1)\n",
    "        \n",
    "        RHC_accu.append(RHC_fitness)\n",
    "        SA_accu.append(SA_fitness)\n",
    "        GA_accu.append(GA_fitness)\n",
    "        MIMIC_accu.append(MIMIC_fitness)\n",
    "    \n",
    "    print(RHC_state, RHC_fitness, SA_state, SA_fitness, GA_state, GA_fitness, MIMIC_state, MIMIC_fitness)\n",
    "    return [RHC_accu, SA_accu, GA_accu, MIMIC_accu]\n",
    "        "
   ]
  },
  {
   "cell_type": "code",
   "execution_count": 31,
   "metadata": {},
   "outputs": [
    {
     "name": "stdout",
     "output_type": "stream",
     "text": [
      "[0 0 1 1 0 0 0 0 0 0 0 0] 8.0 [1 1 1 1 0 0 0 0 0 0 0 0] 20.0 [1 1 1 1 1 1 1 1 1 0 0 0] 21.0 [1 1 1 1 1 1 1 1 1 0 0 0] 21.0\n",
      "RHC 8.013\n",
      "SA 20.001\n",
      "GA 21.0\n",
      "MIMIC 21.0\n"
     ]
    }
   ],
   "source": [
    "fitness = mlrose.FourPeaks(t_pct=0.15)\n",
    "state = np.array([1, 1, 1, 1, 1, 1, 1, 1, 1, 0, 0, 0])\n",
    "fitness.evaluate(state)\n",
    "# max 21\n",
    "peaks_res = peaks_compare(12, runs = 1000)\n",
    "print('RHC', np.mean(peaks_res[0]))\n",
    "print('SA', np.mean(peaks_res[1]))\n",
    "print('GA', np.mean(peaks_res[2]))\n",
    "print('MIMIC', np.mean(peaks_res[3]))"
   ]
  },
  {
   "cell_type": "markdown",
   "metadata": {},
   "source": [
    "# FlipFlop"
   ]
  },
  {
   "cell_type": "code",
   "execution_count": 205,
   "metadata": {},
   "outputs": [
    {
     "data": {
      "text/plain": [
       "6"
      ]
     },
     "execution_count": 205,
     "metadata": {},
     "output_type": "execute_result"
    }
   ],
   "source": [
    "fitness = mlrose.FlipFlop()\n",
    "state = np.array([0, 1, 0, 1, 0, 1, 0])\n",
    "fitness.evaluate(state)"
   ]
  },
  {
   "cell_type": "code",
   "execution_count": 206,
   "metadata": {},
   "outputs": [],
   "source": [
    "def flipflop_compare(n = 12, runs = 100):\n",
    "    \n",
    "    # define problem\n",
    "    fitness = mlrose.FlipFlop()\n",
    "    problem = mlrose.DiscreteOpt(length = n, fitness_fn = fitness, maximize = True, max_val = 2)\n",
    "    \n",
    "    # randomly define initial states\n",
    "    np.random.seed(2)\n",
    "    RHC_accu = []\n",
    "    SA_accu = []\n",
    "    GA_accu = []\n",
    "    MIMIC_accu = []\n",
    "    \n",
    "    for i in range(runs):\n",
    "        init_state = np.random.randint(low = 0, high = 2, size = n)\n",
    "        RHC_state, RHC_fitness = mlrose.random_hill_climb(problem, max_attempts = 10, \n",
    "                                                      max_iters = 1000, restarts = 10,\n",
    "                                                      init_state = init_state, curve = False, random_state = 1)\n",
    "        schedule = mlrose.ExpDecay()\n",
    "        SA_state, SA_fitness = mlrose.simulated_annealing(problem, schedule = schedule,\n",
    "                                                              max_attempts = 10, max_iters = 1000,\n",
    "                                                              init_state = init_state, random_state = 1)\n",
    "        \n",
    "        GA_state, GA_fitness = mlrose.genetic_alg(problem, pop_size = 200, \n",
    "                                                mutation_prob = 0.1, max_attempts = 10, max_iters = 1000, \n",
    "                                                curve = False, random_state = 1)\n",
    "\n",
    "        MIMIC_state, MIMIC_fitness = mlrose.genetic_alg(problem, pop_size = 200, \n",
    "                                                mutation_prob = 0.1, max_attempts = 10, max_iters = 1000, \n",
    "                                                curve = False, random_state = 1)\n",
    "        \n",
    "        RHC_accu.append(RHC_fitness)\n",
    "        SA_accu.append(SA_fitness)\n",
    "        GA_accu.append(GA_fitness)\n",
    "        MIMIC_accu.append(MIMIC_fitness)\n",
    "    \n",
    "    print(RHC_state, RHC_fitness, SA_state, SA_fitness, GA_state, GA_fitness, MIMIC_state, MIMIC_fitness)\n",
    "    return [RHC_accu, SA_accu, GA_accu, MIMIC_accu]\n",
    "        "
   ]
  },
  {
   "cell_type": "code",
   "execution_count": 216,
   "metadata": {},
   "outputs": [
    {
     "name": "stdout",
     "output_type": "stream",
     "text": [
      "19\n",
      "[1 0 1 0 1 0 1 0 1 0 0 1 1 0 1 0 1 0 1 0 1 1 1 0 1 0 1 0 1 0] 25.0 [1 0 1 0 1 0 0 1 0 1 0 1 0 1 0 1 1 0 1 1 0 1 0 1 0 1 0 1 0 1] 26.0 [1 0 1 1 0 1 0 1 1 0 1 0 1 0 1 0 1 1 0 1 0 1 1 0 1 1 0 1 0 1] 24.0 [1 0 1 1 0 1 0 1 1 0 1 0 1 0 1 0 1 1 0 1 0 1 1 0 1 1 0 1 0 1] 24.0\n",
      "RHC 24.997\n",
      "SA 26.0\n",
      "GA 24.0\n",
      "MIMIC 24.0\n"
     ]
    }
   ],
   "source": [
    "fitness = mlrose.FlipFlop()\n",
    "state = np.array([1,0,1,0,1,0,1,0,1,0,1,0,1,0,1,0,1,0,1,0])\n",
    "print(fitness.evaluate(state))\n",
    "# max 19 \n",
    "flipflop_res = flipflop_compare(30, runs = 1000)\n",
    "print('RHC', np.mean(flipflop_res[0]))\n",
    "print('SA', np.mean(flipflop_res[1]))\n",
    "print('GA', np.mean(flipflop_res[2]))\n",
    "print('MIMIC', np.mean(flipflop_res[3]))"
   ]
  },
  {
   "cell_type": "code",
   "execution_count": 214,
   "metadata": {},
   "outputs": [
    {
     "name": "stdout",
     "output_type": "stream",
     "text": [
      "3\n"
     ]
    }
   ],
   "source": [
    "fitness = mlrose.FlipFlop()\n",
    "state = np.array([0,0,1,0,1,1])\n",
    "print(fitness.evaluate(state))"
   ]
  },
  {
   "cell_type": "code",
   "execution_count": null,
   "metadata": {},
   "outputs": [],
   "source": []
  },
  {
   "cell_type": "markdown",
   "metadata": {},
   "source": [
    "# NN weight"
   ]
  },
  {
   "cell_type": "code",
   "execution_count": 220,
   "metadata": {},
   "outputs": [],
   "source": [
    "from sklearn.model_selection import train_test_split\n",
    "from sklearn.preprocessing import MinMaxScaler, OneHotEncoder\n",
    "import numpy as np\n",
    "from sklearn.datasets import load_iris\n",
    "from sklearn.metrics import accuracy_score"
   ]
  },
  {
   "cell_type": "code",
   "execution_count": 218,
   "metadata": {},
   "outputs": [
    {
     "name": "stderr",
     "output_type": "stream",
     "text": [
      "C:\\ProgramData\\Anaconda3\\lib\\site-packages\\sklearn\\preprocessing\\_encoders.py:368: FutureWarning: The handling of integer data will change in version 0.22. Currently, the categories are determined based on the range [0, max(values)], while in the future they will be determined based on the unique values.\n",
      "If you want the future behaviour and silence this warning, you can specify \"categories='auto'\".\n",
      "In case you used a LabelEncoder before this OneHotEncoder to convert the categories to integers, then you can now use the OneHotEncoder directly.\n",
      "  warnings.warn(msg, FutureWarning)\n"
     ]
    }
   ],
   "source": [
    "# Load the Iris dataset\n",
    "data = load_iris()\n",
    "\n",
    "# Split data into training and test sets\n",
    "X_train, X_test, y_train, y_test = train_test_split(data.data, data.target, \\\n",
    "                                                    test_size = 0.2, random_state = 3)\n",
    "\n",
    "# Normalize feature data\n",
    "scaler = MinMaxScaler()\n",
    "\n",
    "X_train_scaled = scaler.fit_transform(X_train)\n",
    "X_test_scaled = scaler.transform(X_test)\n",
    "\n",
    "# One hot encode target values\n",
    "one_hot = OneHotEncoder()\n",
    "\n",
    "y_train_hot = one_hot.fit_transform(y_train.reshape(-1, 1)).todense()\n",
    "y_test_hot = one_hot.transform(y_test.reshape(-1, 1)).todense()"
   ]
  },
  {
   "cell_type": "code",
   "execution_count": 232,
   "metadata": {},
   "outputs": [
    {
     "name": "stdout",
     "output_type": "stream",
     "text": [
      "0.3416666666666667\n",
      "0.4\n"
     ]
    }
   ],
   "source": [
    "# Initialize neural network object and fit object\n",
    "nn_model1 = mlrose.NeuralNetwork(hidden_nodes = [100], activation = 'relu', \\\n",
    "                                 algorithm = 'random_hill_climb', max_iters = 10000, \\\n",
    "                                 bias = True, is_classifier = True, learning_rate = 0.0001, \\\n",
    "                                 early_stopping = True, clip_max = 5, restarts = 10, \\\n",
    "                                 max_attempts = 100, random_state = 3)\n",
    "\n",
    "nn_model1.fit(X_train_scaled, y_train_hot)\n",
    "# Predict labels for train set and assess accuracy\n",
    "y_train_pred = nn_model1.predict(X_train_scaled)\n",
    "\n",
    "y_train_accuracy = accuracy_score(y_train_hot, y_train_pred)\n",
    "\n",
    "print(y_train_accuracy)\n",
    "0.45\n",
    "\n",
    "# Predict labels for test set and assess accuracy\n",
    "y_test_pred = nn_model1.predict(X_test_scaled)\n",
    "\n",
    "y_test_accuracy = accuracy_score(y_test_hot, y_test_pred)\n",
    "\n",
    "print(y_test_accuracy)"
   ]
  },
  {
   "cell_type": "code",
   "execution_count": 233,
   "metadata": {},
   "outputs": [
    {
     "name": "stdout",
     "output_type": "stream",
     "text": [
      "0.8916666666666667\n",
      "0.9333333333333333\n"
     ]
    }
   ],
   "source": [
    "nn_model1 = mlrose.NeuralNetwork(hidden_nodes = [100], activation = 'relu', \\\n",
    "                                 algorithm = 'genetic_alg', max_iters = 10000, \\\n",
    "                                 bias = True, is_classifier = True, learning_rate = 0.0001, \\\n",
    "                                 early_stopping = True, clip_max = 5, \\\n",
    "                                 max_attempts = 100, random_state = 3)\n",
    "\n",
    "nn_model1.fit(X_train_scaled, y_train_hot)\n",
    "# Predict labels for train set and assess accuracy\n",
    "y_train_pred = nn_model1.predict(X_train_scaled)\n",
    "\n",
    "y_train_accuracy = accuracy_score(y_train_hot, y_train_pred)\n",
    "\n",
    "print(y_train_accuracy)\n",
    "0.45\n",
    "\n",
    "# Predict labels for test set and assess accuracy\n",
    "y_test_pred = nn_model1.predict(X_test_scaled)\n",
    "\n",
    "y_test_accuracy = accuracy_score(y_test_hot, y_test_pred)\n",
    "\n",
    "print(y_test_accuracy)"
   ]
  },
  {
   "cell_type": "code",
   "execution_count": 234,
   "metadata": {},
   "outputs": [
    {
     "name": "stdout",
     "output_type": "stream",
     "text": [
      "0.3333333333333333\n",
      "0.36666666666666664\n"
     ]
    }
   ],
   "source": [
    "nn_model1 = mlrose.NeuralNetwork(hidden_nodes = [100], activation = 'relu', \\\n",
    "                                 algorithm = 'simulated_annealing', max_iters = 10000, \\\n",
    "                                 bias = True, is_classifier = True, learning_rate = 0.0001, \\\n",
    "                                 early_stopping = True, clip_max = 5, \\\n",
    "                                 max_attempts = 100, random_state = 3)\n",
    "\n",
    "nn_model1.fit(X_train_scaled, y_train_hot)\n",
    "# Predict labels for train set and assess accuracy\n",
    "y_train_pred = nn_model1.predict(X_train_scaled)\n",
    "\n",
    "y_train_accuracy = accuracy_score(y_train_hot, y_train_pred)\n",
    "\n",
    "print(y_train_accuracy)\n",
    "0.45\n",
    "\n",
    "# Predict labels for test set and assess accuracy\n",
    "y_test_pred = nn_model1.predict(X_test_scaled)\n",
    "\n",
    "y_test_accuracy = accuracy_score(y_test_hot, y_test_pred)\n",
    "\n",
    "print(y_test_accuracy)"
   ]
  },
  {
   "cell_type": "code",
   "execution_count": 235,
   "metadata": {},
   "outputs": [
    {
     "name": "stdout",
     "output_type": "stream",
     "text": [
      "0.975\n",
      "1.0\n"
     ]
    }
   ],
   "source": [
    "nn_model2 = mlrose.NeuralNetwork(hidden_nodes = [100], activation = 'relu', \\\n",
    "                                 algorithm = 'gradient_descent', max_iters = 10000, \\\n",
    "                                 bias = True, is_classifier = True, learning_rate = 0.0001, \\\n",
    "                                 early_stopping = True, clip_max = 5, max_attempts = 100, \\\n",
    "                                 random_state = 3)\n",
    "\n",
    "nn_model2.fit(X_train_scaled, y_train_hot)\n",
    "\n",
    "# Predict labels for train set and assess accuracy\n",
    "y_train_pred = nn_model2.predict(X_train_scaled)\n",
    "\n",
    "y_train_accuracy = accuracy_score(y_train_hot, y_train_pred)\n",
    "\n",
    "print(y_train_accuracy)\n",
    "0.625\n",
    "\n",
    "# Predict labels for test set and assess accuracy\n",
    "y_test_pred = nn_model2.predict(X_test_scaled)\n",
    "\n",
    "y_test_accuracy = accuracy_score(y_test_hot, y_test_pred)\n",
    "\n",
    "print(y_test_accuracy)"
   ]
  }
 ],
 "metadata": {
  "kernelspec": {
   "display_name": "Python 3",
   "language": "python",
   "name": "python3"
  },
  "language_info": {
   "codemirror_mode": {
    "name": "ipython",
    "version": 3
   },
   "file_extension": ".py",
   "mimetype": "text/x-python",
   "name": "python",
   "nbconvert_exporter": "python",
   "pygments_lexer": "ipython3",
   "version": "3.6.8"
  }
 },
 "nbformat": 4,
 "nbformat_minor": 2
}
